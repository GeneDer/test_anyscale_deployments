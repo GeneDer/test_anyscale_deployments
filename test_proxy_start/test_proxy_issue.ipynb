{
 "cells": [
  {
   "cell_type": "code",
   "execution_count": 1,
   "id": "bde150ae-3579-47bc-ae27-237915590431",
   "metadata": {
    "tags": []
   },
   "outputs": [],
   "source": [
    "from ray import serve"
   ]
  },
  {
   "cell_type": "code",
   "execution_count": 2,
   "id": "de2802f9-d45e-498f-a75e-df39a971f8c5",
   "metadata": {
    "tags": []
   },
   "outputs": [],
   "source": [
    "@serve.deployment()\n",
    "class A:\n",
    "    def __call__(self, *args):\n",
    "        return \"hello_world\"\n",
    "\n",
    "\n",
    "my_app = A.bind()\n"
   ]
  },
  {
   "cell_type": "code",
   "execution_count": 3,
   "id": "4346a3f5-54fa-414d-92a2-bba63f9ec2d7",
   "metadata": {
    "tags": []
   },
   "outputs": [
    {
     "name": "stderr",
     "output_type": "stream",
     "text": [
      "2023-06-09 13:07:47,390\tINFO worker.py:1505 -- Connecting to existing Ray cluster at address: 10.0.14.3:6379...\n",
      "2023-06-09 13:07:47,396\tINFO worker.py:1680 -- Connected to Ray cluster. View the dashboard at \u001b[1m\u001b[32mhttps://console.anyscale-staging.com/api/v2/sessions/ses_r4gdkhpwdb1dic5bh1e2yzeqcl/services?redirect_to=dashboard \u001b[39m\u001b[22m\n",
      "2023-06-09 13:07:47,400\tINFO packaging.py:346 -- Pushing file package 'gcs://_ray_pkg_7f7bb3f8db0708613ce2cb8ba0d3ec78.zip' (0.85MiB) to Ray cluster...\n",
      "2023-06-09 13:07:47,403\tINFO packaging.py:359 -- Successfully pushed file package 'gcs://_ray_pkg_7f7bb3f8db0708613ce2cb8ba0d3ec78.zip'.\n",
      "\u001b[2m\u001b[36m(ServeController pid=129342)\u001b[0m INFO 2023-06-09 13:07:47,435 controller 129342 deployment_state.py:1298 - Deploying new version of deployment app1_A.\n",
      "\u001b[2m\u001b[36m(ServeController pid=129342)\u001b[0m INFO 2023-06-09 13:07:47,472 controller 129342 deployment_state.py:1537 - Adding 1 replica to deployment app1_A.\n"
     ]
    },
    {
     "data": {
      "text/plain": [
       "RayServeSyncHandle(deployment='app1_A')"
      ]
     },
     "execution_count": 3,
     "metadata": {},
     "output_type": "execute_result"
    },
    {
     "name": "stderr",
     "output_type": "stream",
     "text": [
      "\u001b[2m\u001b[36m(ServeReplica:app1_A pid=135545)\u001b[0m INFO 2023-06-09 13:07:58,338 app1_A app1_A#vFxmnD wRbEvvQdEF /backend/ app1 replica.py:671 - __CALL__ OK 0.4ms\n"
     ]
    }
   ],
   "source": [
    "serve.run(target=my_app, name='backend', route_prefix='/backend')"
   ]
  },
  {
   "cell_type": "code",
   "execution_count": 4,
   "id": "546aa076-bed9-4533-82fd-c9c943ce97a7",
   "metadata": {
    "tags": []
   },
   "outputs": [
    {
     "name": "stderr",
     "output_type": "stream",
     "text": [
      "\u001b[2m\u001b[36m(ServeController pid=129342)\u001b[0m INFO 2023-06-09 13:08:05,282 controller 129342 deployment_state.py:1298 - Deploying new version of deployment default_A.\n",
      "\u001b[2m\u001b[36m(ServeController pid=129342)\u001b[0m INFO 2023-06-09 13:08:05,302 controller 129342 deployment_state.py:1537 - Adding 1 replica to deployment default_A.\n"
     ]
    },
    {
     "data": {
      "text/plain": [
       "RayServeSyncHandle(deployment='default_A')"
      ]
     },
     "execution_count": 4,
     "metadata": {},
     "output_type": "execute_result"
    },
    {
     "name": "stderr",
     "output_type": "stream",
     "text": [
      "\u001b[2m\u001b[36m(ServeReplica:default_A pid=135764)\u001b[0m INFO 2023-06-09 13:08:14,215 default_A default_A#eEuJWB IfQNXHgFYd / default replica.py:671 - __CALL__ OK 0.5ms\n"
     ]
    }
   ],
   "source": [
    "serve.run(target=my_app)"
   ]
  },
  {
   "cell_type": "code",
   "execution_count": 5,
   "id": "2643f725-0fed-4e44-9ad8-66dbb6875ca4",
   "metadata": {
    "tags": []
   },
   "outputs": [
    {
     "name": "stderr",
     "output_type": "stream",
     "text": [
      "\u001b[2m\u001b[36m(ServeController pid=129342)\u001b[0m INFO 2023-06-09 13:08:21,847 controller 129342 deployment_state.py:1264 - Deleting deployment default_A.\n",
      "\u001b[2m\u001b[36m(ServeController pid=129342)\u001b[0m INFO 2023-06-09 13:08:21,917 controller 129342 deployment_state.py:1563 - Removing 1 replica from deployment 'default_A'.\n",
      "\u001b[2m\u001b[36m(ServeController pid=129342)\u001b[0m INFO 2023-06-09 13:08:24,860 controller 129342 deployment_state.py:1264 - Deleting deployment app1_A.\n",
      "\u001b[2m\u001b[36m(ServeController pid=129342)\u001b[0m INFO 2023-06-09 13:08:24,901 controller 129342 deployment_state.py:1563 - Removing 1 replica from deployment 'app1_A'.\n"
     ]
    }
   ],
   "source": [
    "serve.delete(name='default')\n",
    "serve.delete(name='backend')"
   ]
  },
  {
   "cell_type": "code",
   "execution_count": 6,
   "id": "7399636d-e351-40b2-b32b-db9ebe726f70",
   "metadata": {
    "tags": []
   },
   "outputs": [
    {
     "name": "stderr",
     "output_type": "stream",
     "text": [
      "\u001b[2m\u001b[36m(ServeController pid=129342)\u001b[0m INFO 2023-06-09 13:08:33,470 controller 129342 deployment_state.py:1298 - Deploying new version of deployment app1_A.\n",
      "\u001b[2m\u001b[36m(ServeController pid=129342)\u001b[0m INFO 2023-06-09 13:08:33,489 controller 129342 deployment_state.py:1537 - Adding 1 replica to deployment app1_A.\n"
     ]
    },
    {
     "data": {
      "text/plain": [
       "RayServeSyncHandle(deployment='app1_A')"
      ]
     },
     "execution_count": 6,
     "metadata": {},
     "output_type": "execute_result"
    }
   ],
   "source": [
    "serve.run(target=my_app, name='backend', route_prefix='/backend')"
   ]
  },
  {
   "cell_type": "code",
   "execution_count": 7,
   "id": "c687184c-815b-4920-9d60-c4da84cdce04",
   "metadata": {
    "tags": []
   },
   "outputs": [
    {
     "name": "stderr",
     "output_type": "stream",
     "text": [
      "\u001b[2m\u001b[36m(ServeController pid=129342)\u001b[0m INFO 2023-06-09 13:08:39,485 controller 129342 deployment_state.py:1298 - Deploying new version of deployment default_A.\n",
      "\u001b[2m\u001b[36m(ServeController pid=129342)\u001b[0m INFO 2023-06-09 13:08:39,550 controller 129342 deployment_state.py:1537 - Adding 1 replica to deployment default_A.\n"
     ]
    },
    {
     "data": {
      "text/plain": [
       "RayServeSyncHandle(deployment='default_A')"
      ]
     },
     "execution_count": 7,
     "metadata": {},
     "output_type": "execute_result"
    },
    {
     "name": "stderr",
     "output_type": "stream",
     "text": [
      "\u001b[2m\u001b[36m(ServeReplica:app1_A pid=136099)\u001b[0m INFO 2023-06-09 13:08:49,222 app1_A app1_A#aCHgaF BLEoBtufid /backend/ app1 replica.py:671 - __CALL__ OK 0.5ms\n",
      "\u001b[2m\u001b[36m(ServeReplica:default_A pid=136190)\u001b[0m INFO 2023-06-09 13:08:50,704 default_A default_A#Xwkvos rUGUHuuTux / default replica.py:671 - __CALL__ OK 0.4ms\n"
     ]
    }
   ],
   "source": [
    "serve.run(target=my_app)"
   ]
  },
  {
   "cell_type": "code",
   "execution_count": null,
   "id": "68a22c58-baab-4baa-9e0c-f485087a1034",
   "metadata": {},
   "outputs": [],
   "source": []
  }
 ],
 "metadata": {
  "kernelspec": {
   "display_name": "Python 3 (ipykernel)",
   "language": "python",
   "name": "python3"
  },
  "language_info": {
   "codemirror_mode": {
    "name": "ipython",
    "version": 3
   },
   "file_extension": ".py",
   "mimetype": "text/x-python",
   "name": "python",
   "nbconvert_exporter": "python",
   "pygments_lexer": "ipython3",
   "version": "3.10.8"
  }
 },
 "nbformat": 4,
 "nbformat_minor": 5
}
